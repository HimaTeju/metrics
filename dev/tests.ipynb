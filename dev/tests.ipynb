{
 "cells": [
  {
   "cell_type": "code",
   "execution_count": 2,
   "metadata": {},
   "outputs": [],
   "source": [
    "import os\n",
    "from pathlib import Path\n",
    "if os.getcwd().endswith(\"/dev\"):\n",
    "    os.chdir(Path(os.getcwd()) / Path(\"../backend/src\"))\n"
   ]
  },
  {
   "cell_type": "code",
   "execution_count": 3,
   "metadata": {},
   "outputs": [],
   "source": [
    "from offspot_metrics_backend.db.models import IndicatorDimension, IndicatorPeriod, IndicatorRecord\n",
    "\n",
    "from sqlalchemy import desc, func, select, delete"
   ]
  },
  {
   "attachments": {},
   "cell_type": "markdown",
   "metadata": {},
   "source": [
    "Print query to select top contents"
   ]
  },
  {
   "cell_type": "code",
   "execution_count": 4,
   "metadata": {},
   "outputs": [
    {
     "name": "stdout",
     "output_type": "stream",
     "text": [
      "SELECT content_with_count.content \n",
      "FROM (SELECT indicator_dimension.value0 AS content, sum(indicator_record.value) AS count \n",
      "FROM indicator_dimension JOIN indicator_record ON indicator_dimension.id = indicator_record.dimension_id JOIN indicator_period ON indicator_period.timestamp = indicator_record.period_id \n",
      "WHERE indicator_period.timestamp >= :timestamp_1 AND indicator_period.timestamp <= :timestamp_2 GROUP BY content) AS content_with_count ORDER BY content_with_count.count DESC\n",
      " LIMIT :param_1\n"
     ]
    }
   ],
   "source": [
    "start_ts = 12\n",
    "stop_ts = 13\n",
    "\n",
    "subquery = (\n",
    "            select(\n",
    "                IndicatorDimension.value0.label(\"content\"),\n",
    "                func.sum(IndicatorRecord.value).label(\"count\"),\n",
    "            )\n",
    "            .join(IndicatorRecord)\n",
    "            .join(IndicatorPeriod)\n",
    "            .where(IndicatorPeriod.timestamp >= start_ts)\n",
    "            .where(IndicatorPeriod.timestamp <= stop_ts)\n",
    "            .group_by(\"content\")\n",
    "        ).subquery(\"content_with_count\")\n",
    "\n",
    "query = select(subquery.c.content).order_by(desc(subquery.c.count)).limit(50)\n",
    "print(query)\n"
   ]
  },
  {
   "attachments": {},
   "cell_type": "markdown",
   "metadata": {},
   "source": [
    "Delete old records"
   ]
  },
  {
   "cell_type": "code",
   "execution_count": 5,
   "metadata": {},
   "outputs": [
    {
     "name": "stdout",
     "output_type": "stream",
     "text": [
      "DELETE FROM indicator_record WHERE indicator_record.period_id IN (SELECT indicator_period.timestamp \n",
      "FROM indicator_period \n",
      "WHERE indicator_period.timestamp < :timestamp_1)\n"
     ]
    }
   ],
   "source": [
    "min_ts = 12\n",
    "query = delete(IndicatorRecord).where(IndicatorRecord.period_id.in_( select(IndicatorPeriod.timestamp).where(IndicatorPeriod.timestamp < min_ts)))\n",
    "print(query)"
   ]
  },
  {
   "attachments": {},
   "cell_type": "markdown",
   "metadata": {},
   "source": [
    "Delete dimensions not used anymore"
   ]
  },
  {
   "cell_type": "code",
   "execution_count": 6,
   "metadata": {},
   "outputs": [
    {
     "name": "stdout",
     "output_type": "stream",
     "text": [
      "DELETE FROM indicator_dimension WHERE indicator_dimension.id IN (SELECT DISTINCT indicator_record.dimension_id \n",
      "FROM indicator_record)\n"
     ]
    }
   ],
   "source": [
    "query = delete(IndicatorDimension).where(\n",
    "                IndicatorDimension.id.in_(select(IndicatorRecord.dimension_id).distinct())\n",
    "            )\n",
    "print(query)"
   ]
  }
 ],
 "metadata": {
  "kernelspec": {
   "display_name": "venv",
   "language": "python",
   "name": "python3"
  },
  "language_info": {
   "codemirror_mode": {
    "name": "ipython",
    "version": 3
   },
   "file_extension": ".py",
   "mimetype": "text/x-python",
   "name": "python",
   "nbconvert_exporter": "python",
   "pygments_lexer": "ipython3",
   "version": "3.11.4"
  },
  "orig_nbformat": 4
 },
 "nbformat": 4,
 "nbformat_minor": 2
}
